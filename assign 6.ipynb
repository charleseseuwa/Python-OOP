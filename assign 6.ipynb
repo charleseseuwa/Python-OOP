{
 "cells": [
  {
   "cell_type": "markdown",
   "id": "2ced51de",
   "metadata": {},
   "source": [
    "# Assignment 6"
   ]
  },
  {
   "cell_type": "code",
   "execution_count": 2,
   "id": "9e6f7a77",
   "metadata": {},
   "outputs": [],
   "source": [
    "# Assign No.1 Choose the 3 correct options from the code below\n",
    "\n",
    "class BaseLayer:\n",
    "    def __init__(self, name=\"\"):\n",
    "        self.name = name\n",
    "        \n",
    "    def __repr__(self):\n",
    "        return f\"{self.name} layer\"\n",
    "    \n",
    "class ActivationLayer(BaseLayer):\n",
    "    def __init__(self, size):\n",
    "        super().__init__('Activation')\n",
    "        self.size = size\n",
    "        \n",
    "class FCLayer(BaseLayer):\n",
    "    def __init__(self, size):\n",
    "        super().__init__('Fully Connected')\n",
    "        self.size = size\n",
    "    \n",
    "    "
   ]
  },
  {
   "cell_type": "code",
   "execution_count": 3,
   "id": "83f99f70",
   "metadata": {},
   "outputs": [
    {
     "name": "stdout",
     "output_type": "stream",
     "text": [
      "Activation\n",
      "charles\n"
     ]
    }
   ],
   "source": [
    "p = ActivationLayer('charles')\n",
    "print(p.name)\n",
    "print(p.size)"
   ]
  },
  {
   "cell_type": "code",
   "execution_count": 4,
   "id": "cd19ce35",
   "metadata": {},
   "outputs": [
    {
     "name": "stdout",
     "output_type": "stream",
     "text": [
      "Fully Connected layer\n"
     ]
    }
   ],
   "source": [
    "print(FCLayer(42))"
   ]
  },
  {
   "cell_type": "code",
   "execution_count": 5,
   "id": "5d1d1357",
   "metadata": {},
   "outputs": [
    {
     "name": "stdout",
     "output_type": "stream",
     "text": [
      "5\n"
     ]
    }
   ],
   "source": [
    "p = BaseLayer(\"charles\")\n",
    "print(p.name)"
   ]
  },
  {
   "cell_type": "markdown",
   "id": "9b7afe81",
   "metadata": {},
   "source": [
    "**Answer to Ques 1.**\n",
    "\n",
    "- (a)\n",
    "- (c)\n",
    "- (d)"
   ]
  },
  {
   "cell_type": "markdown",
   "id": "a507649a",
   "metadata": {},
   "source": [
    "**Answer to Quest. 2**\n",
    "\n",
    "The \\_\\_eq_\\_() in the Child class"
   ]
  },
  {
   "cell_type": "code",
   "execution_count": 26,
   "id": "e9082090",
   "metadata": {},
   "outputs": [],
   "source": [
    "# Questtion 2\n",
    "\n",
    "class Parent:\n",
    "    def __eq__(self, other):\n",
    "        print(\"Parent's __eq__() called\")\n",
    "        return True\n",
    "    \n",
    "class Child(Parent):\n",
    "    def __eq__(self, other):\n",
    "        print(\"Child's __eq__() called\")\n",
    "        return True\n",
    "    "
   ]
  },
  {
   "cell_type": "code",
   "execution_count": 77,
   "id": "1e091ac2",
   "metadata": {},
   "outputs": [],
   "source": [
    "p = Parent()\n",
    "c = Child()"
   ]
  },
  {
   "cell_type": "code",
   "execution_count": 78,
   "id": "00f75cbb",
   "metadata": {},
   "outputs": [
    {
     "name": "stdout",
     "output_type": "stream",
     "text": [
      "Child's __eq__() called\n"
     ]
    },
    {
     "data": {
      "text/plain": [
       "True"
      ]
     },
     "execution_count": 78,
     "metadata": {},
     "output_type": "execute_result"
    }
   ],
   "source": [
    "p == c"
   ]
  },
  {
   "cell_type": "markdown",
   "id": "2a16785e",
   "metadata": {},
   "source": [
    "**Answer to Quest. 3**"
   ]
  },
  {
   "cell_type": "code",
   "execution_count": 30,
   "id": "ea7efbe4",
   "metadata": {},
   "outputs": [],
   "source": [
    "#3.a\n",
    "\n",
    "class Employee:\n",
    "    def __init__(self, name, salary= 30000):\n",
    "        self.name = name\n",
    "        self.salary = salary\n",
    "        \n",
    "    def give_rasie(self, amount):\n",
    "        self.salary += amount\n",
    "        \n",
    "    def __str__(self):\n",
    "        emp_str = \"\"\"\n",
    "        Employee Name:{name}\n",
    "        Employee Salary:{salary}\n",
    "        \"\"\".format(name= self.name, salary= self.salary)\n",
    "        return emp_str"
   ]
  },
  {
   "cell_type": "code",
   "execution_count": 32,
   "id": "6585ec54",
   "metadata": {},
   "outputs": [
    {
     "name": "stdout",
     "output_type": "stream",
     "text": [
      "\n",
      "        Employee Name:Omah Lay\n",
      "        Employee Salary:4000\n",
      "        \n"
     ]
    }
   ],
   "source": [
    "emp = Employee('Omah Lay', 40000)  # calling the Empployee class with the __str__ method\n",
    "print(emp)"
   ]
  },
  {
   "cell_type": "code",
   "execution_count": 79,
   "id": "5f06ba2c",
   "metadata": {},
   "outputs": [
    {
     "name": "stdout",
     "output_type": "stream",
     "text": [
      "Employee('Franisca Okumuyide', 200000)\n"
     ]
    }
   ],
   "source": [
    "#3.b\n",
    "emp2 = Employee('Franisca Okumuyide', 200000) # adding a second object to the class still return outpout from the str method\n",
    "print(emp2)"
   ]
  },
  {
   "cell_type": "markdown",
   "id": "ca2e6d44",
   "metadata": {},
   "source": [
    "**Answer to Quest. 4**"
   ]
  },
  {
   "cell_type": "code",
   "execution_count": 35,
   "id": "695dcea2",
   "metadata": {},
   "outputs": [],
   "source": [
    "class Employee:\n",
    "    def __init__(self, name, salary= 30000):\n",
    "        self.name = name\n",
    "        self.salary = salary\n",
    "        \n",
    "    def give_rasie(self, amount):\n",
    "        self.salary += amount\n",
    "        \n",
    "#     def __str__(self):\n",
    "#         emp_str = \"\"\"\n",
    "#         Employee Name:{name}\n",
    "#         Employee Salary:{salary}\n",
    "#         \"\"\".format(name= self.name, salary= self.salary)\n",
    "#         return emp_str\n",
    "    \n",
    "    def __repr__(self):   #<---- adding _repr__ method to the Employee class\n",
    "        return \"Employee('{name}', {salary})\".format(name=self.name, salary=self.salary) \n",
    "    \n",
    "    \n",
    "    "
   ]
  },
  {
   "cell_type": "code",
   "execution_count": 36,
   "id": "769b1f56",
   "metadata": {},
   "outputs": [
    {
     "name": "stdout",
     "output_type": "stream",
     "text": [
      "Employee('Jeremy Howard', 40000)\n"
     ]
    }
   ],
   "source": [
    "emp = Employee('Jeremy Howard', 40000)\n",
    "print(emp)"
   ]
  },
  {
   "cell_type": "markdown",
   "id": "3e860ce3",
   "metadata": {},
   "source": [
    "**Answer to Quest. 5**"
   ]
  },
  {
   "cell_type": "code",
   "execution_count": 69,
   "id": "2aff8205",
   "metadata": {},
   "outputs": [],
   "source": [
    "def invert_at_index(x, ind):\n",
    "    try:\n",
    "        return 1/x[ind]\n",
    "    except ZeroDivisionError:\n",
    "        print(\"cannot divide by 0!\")\n",
    "        \n",
    "    except IndexError:\n",
    "        print(\"Index out of range!\")\n",
    "        \n",
    "        \n",
    "\n",
    "a = [5, 6, 0, 7]"
   ]
  },
  {
   "cell_type": "code",
   "execution_count": 70,
   "id": "e4ed54c2",
   "metadata": {},
   "outputs": [
    {
     "name": "stdout",
     "output_type": "stream",
     "text": [
      "0.16666666666666666\n"
     ]
    }
   ],
   "source": [
    "print(invert_at_index(a, 1))\n"
   ]
  },
  {
   "cell_type": "code",
   "execution_count": 71,
   "id": "60b04d8f",
   "metadata": {},
   "outputs": [
    {
     "name": "stdout",
     "output_type": "stream",
     "text": [
      "cannot divide by 0!\n",
      "None\n"
     ]
    }
   ],
   "source": [
    "print(invert_at_index(a, 2))"
   ]
  },
  {
   "cell_type": "code",
   "execution_count": 73,
   "id": "f2874cde",
   "metadata": {},
   "outputs": [
    {
     "name": "stdout",
     "output_type": "stream",
     "text": [
      "Index out of range!\n",
      "None\n"
     ]
    }
   ],
   "source": [
    "print(invert_at_index(a, 5))"
   ]
  },
  {
   "cell_type": "code",
   "execution_count": null,
   "id": "795c9e07",
   "metadata": {},
   "outputs": [],
   "source": []
  }
 ],
 "metadata": {
  "kernelspec": {
   "display_name": "Python 3 (ipykernel)",
   "language": "python",
   "name": "python3"
  },
  "language_info": {
   "codemirror_mode": {
    "name": "ipython",
    "version": 3
   },
   "file_extension": ".py",
   "mimetype": "text/x-python",
   "name": "python",
   "nbconvert_exporter": "python",
   "pygments_lexer": "ipython3",
   "version": "3.9.7"
  }
 },
 "nbformat": 4,
 "nbformat_minor": 5
}
