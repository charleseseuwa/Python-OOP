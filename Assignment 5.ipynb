{
 "cells": [
  {
   "cell_type": "markdown",
   "id": "97c2390d",
   "metadata": {},
   "source": [
    "# OOP -- Adding Methods In A Python Class"
   ]
  },
  {
   "cell_type": "markdown",
   "id": "e8ea1af1",
   "metadata": {},
   "source": [
    "**1.** What is the difference between an Instance Method, a Class Method (@classmethod), and a Static Method (@staticmethod)\n",
    "\n",
    "\n",
    "**2.** Demonstrate your understanding of Question #1, by creating a class called University which contains therein:\n",
    "an Instance Method, a Class Method, and a Static Method.\n",
    "While you are allowed to customize what you would like each of the 3 aforementioned methods to do, call each of those three methods appropriately to return output in a console.\n",
    "Finally, briefly explain why each method returned what it returned.\n",
    "\n",
    "\n",
    "**3.** Alternative Constructors ( using @classmethod)\n",
    "\n",
    "\n",
    "Python allows you to define class methods using the @classmethod decorator and a special first argument cls. The main use of class methods is defining methods that return an instance of the class but are not using the same code as your    constructor.\n",
    "\n",
    "\n",
    "\n",
    "============================================\n",
    "You are developing a time series package and want to define your own class for working with dates, BetterDate. The attributes of the class will be year, month, and day. You want to have a constructor that creates BetterDate objects given the values for year, month, and day, but you also want to be able to create BetterDate objects from strings like 2023-02-14.\n",
    "\n",
    "====================================\n",
    "Please Check the Attached Document To Find The #3 Question.\n",
    "====================================\n",
    "\n",
    "You might find the following functions useful in solving Ques 3:\n",
    "split(\"-\") method will split a string at \"-\" into a list, e.g. \"2023-02-14\".split(\"-\") returns [\"2023\", \"02\", \"14\"]\n",
    "int() will convert a string into a number, e.g. int(\"2023\") is 2023.\n",
    "In the given class below (please check the attached Google doc), add a class method from_str() that:\n",
    "accepts a string datestr of the format 'YYYY-MM-DD'\n",
    "splits datestr and converts each part into an integer,\n",
    "returns an instance of the class with the attributes set to the values extracted from datestr.\n"
   ]
  },
  {
   "cell_type": "markdown",
   "id": "08f6ef74",
   "metadata": {},
   "source": [
    "# Answer 1 "
   ]
  },
  {
   "cell_type": "markdown",
   "id": "dfa30780",
   "metadata": {},
   "source": [
    "**Instance methods:** These are methods that perform actions on data/value provided by instance varibles, they are also varibles used inside a method.\n",
    "\n",
    "**Class Methods:** These are methods that is called on it self, and can only access the class level attribute. They have a first argument as \"cls\"\n",
    "\n",
    "**Static Methods:** This refers to methods that perform task in isolation, they do not have any implicit first argument cannot access or modifty the class level attribute."
   ]
  },
  {
   "cell_type": "markdown",
   "id": "56eac76e",
   "metadata": {},
   "source": [
    "# Answer 2"
   ]
  },
  {
   "cell_type": "code",
   "execution_count": 29,
   "id": "ec163148",
   "metadata": {},
   "outputs": [],
   "source": [
    "class University:  #<-- created a class called University\n",
    "    \n",
    "    \n",
    "    school_name = 'University of Benin'  #<---  class variable\n",
    "    \n",
    "    def __init__(self, name, age, department): #<-__init__ constructor taking 4 parameters that intialize the objects of the class\n",
    "        \n",
    "     # instance variables \n",
    "    \n",
    "        self.name = name   \n",
    "        self.age = age\n",
    "        self.department = department\n",
    "        \n",
    "        #instance method as we can see can modify class objcets and class attribute it can only be called using the self parameter\n",
    "    def my_info(self):\n",
    "        return f\" My name is, {self.name} I am {self.age} and a student of {self.school_name}, {self.department} department\"\n",
    "        \n",
    "    #class method this methord can also access and modify the class variables     \n",
    "    @classmethod\n",
    "    def student_department(cls, department, name):\n",
    "        \n",
    "        return \n",
    "    \n",
    "    # static method : this works in isolation and dosnt have access to the class attribute \n",
    "    @staticmethod\n",
    "    def school_result(exam):\n",
    "        return \"Excellent\""
   ]
  },
  {
   "cell_type": "code",
   "execution_count": 30,
   "id": "cfd753e0",
   "metadata": {},
   "outputs": [
    {
     "name": "stdout",
     "output_type": "stream",
     "text": [
      "39\n",
      "Science\n"
     ]
    },
    {
     "data": {
      "text/plain": [
       "' My name is, Charles I am 39 and a student of University of Benin, Science department'"
      ]
     },
     "execution_count": 30,
     "metadata": {},
     "output_type": "execute_result"
    }
   ],
   "source": [
    "student = University('Charles', 39, 'Science') \n",
    "\n",
    "print(student.age)\n",
    "print(student.department)\n",
    "student.my_info()\n",
    "# this is the instance method, it modifies the class object of the class when called along with the class object "
   ]
  },
  {
   "cell_type": "code",
   "execution_count": 40,
   "id": "5d31f64a",
   "metadata": {},
   "outputs": [
    {
     "data": {
      "text/plain": [
       "'University of Benin'"
      ]
     },
     "execution_count": 40,
     "metadata": {},
     "output_type": "execute_result"
    }
   ],
   "source": [
    "University.student_department(\"unilag\")\n",
    "student.student_department('Science')\n",
    "# here as we can see the class method can only access and modity the class attribute and the object of the class when called "
   ]
  },
  {
   "cell_type": "code",
   "execution_count": 22,
   "id": "b84f0ad9",
   "metadata": {},
   "outputs": [
    {
     "data": {
      "text/plain": [
       "'Excellent'"
      ]
     },
     "execution_count": 22,
     "metadata": {},
     "output_type": "execute_result"
    }
   ],
   "source": [
    "student.school_result(\"score\")\n",
    "# this does not have access to the class attribute and can also not modify objcets atrribute, it works seprately"
   ]
  },
  {
   "cell_type": "markdown",
   "id": "59be5449",
   "metadata": {},
   "source": [
    "# Answer 3"
   ]
  },
  {
   "cell_type": "code",
   "execution_count": 21,
   "id": "f52442d9",
   "metadata": {},
   "outputs": [
    {
     "name": "stdout",
     "output_type": "stream",
     "text": [
      "2\n",
      "2023\n",
      "14\n"
     ]
    }
   ],
   "source": [
    "class BetterDate:\n",
    "    def __init__(self, year, month, day):\n",
    "        self.year, self.month, self.day = month, year, day\n",
    "        \n",
    "    @classmethod    \n",
    "    def from_str(cls, datestr):\n",
    "        parts = datestr.split(\"-\")\n",
    "        year, month, day = int(parts[0]), int(parts[1]), int(parts[2])\n",
    "        \n",
    "        return cls(year, month, day)\n",
    "bd = BetterDate.from_str('2023-02-14')\n",
    "print(bd.year)\n",
    "print(bd.month)\n",
    "print(bd.day)"
   ]
  },
  {
   "cell_type": "code",
   "execution_count": 3,
   "id": "64e98297",
   "metadata": {},
   "outputs": [
    {
     "data": {
      "text/plain": [
       "30"
      ]
     },
     "execution_count": 3,
     "metadata": {},
     "output_type": "execute_result"
    }
   ],
   "source": [
    "def fun1(num):\n",
    "    return num + 25\n",
    "\n",
    "fun1(5)"
   ]
  },
  {
   "cell_type": "code",
   "execution_count": null,
   "id": "e3f9f85f",
   "metadata": {},
   "outputs": [],
   "source": []
  }
 ],
 "metadata": {
  "kernelspec": {
   "display_name": "Python 3 (ipykernel)",
   "language": "python",
   "name": "python3"
  },
  "language_info": {
   "codemirror_mode": {
    "name": "ipython",
    "version": 3
   },
   "file_extension": ".py",
   "mimetype": "text/x-python",
   "name": "python",
   "nbconvert_exporter": "python",
   "pygments_lexer": "ipython3",
   "version": "3.9.7"
  }
 },
 "nbformat": 4,
 "nbformat_minor": 5
}
